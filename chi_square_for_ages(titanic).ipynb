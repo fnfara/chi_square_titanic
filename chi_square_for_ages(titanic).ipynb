{
 "cells": [
  {
   "metadata": {
    "ExecuteTime": {
     "end_time": "2025-05-15T16:51:52.423252Z",
     "start_time": "2025-05-15T16:51:38.150327Z"
    }
   },
   "cell_type": "code",
   "source": [
    "import pandas as pd\n",
    "import numpy as n\n",
    "from scipy.stats import chisquare\n",
    "from scipy.stats import f_oneway"
   ],
   "id": "dc84932d159647ba",
   "outputs": [],
   "execution_count": 1
  },
  {
   "metadata": {
    "ExecuteTime": {
     "end_time": "2025-05-15T16:55:51.308220Z",
     "start_time": "2025-05-15T16:55:51.281791Z"
    }
   },
   "cell_type": "code",
   "source": [
    "df = pd.read_csv(\"Titanic-Dataset.csv\")\n",
    "df.info()\n",
    "df = df.dropna(subset=['Age'])"
   ],
   "id": "cbe1245ba37dbd34",
   "outputs": [
    {
     "name": "stdout",
     "output_type": "stream",
     "text": [
      "<class 'pandas.core.frame.DataFrame'>\n",
      "RangeIndex: 891 entries, 0 to 890\n",
      "Data columns (total 12 columns):\n",
      " #   Column       Non-Null Count  Dtype  \n",
      "---  ------       --------------  -----  \n",
      " 0   PassengerId  891 non-null    int64  \n",
      " 1   Survived     891 non-null    int64  \n",
      " 2   Pclass       891 non-null    int64  \n",
      " 3   Name         891 non-null    object \n",
      " 4   Sex          891 non-null    object \n",
      " 5   Age          714 non-null    float64\n",
      " 6   SibSp        891 non-null    int64  \n",
      " 7   Parch        891 non-null    int64  \n",
      " 8   Ticket       891 non-null    object \n",
      " 9   Fare         891 non-null    float64\n",
      " 10  Cabin        204 non-null    object \n",
      " 11  Embarked     889 non-null    object \n",
      "dtypes: float64(2), int64(5), object(5)\n",
      "memory usage: 83.7+ KB\n"
     ]
    }
   ],
   "execution_count": 6
  },
  {
   "metadata": {
    "ExecuteTime": {
     "end_time": "2025-05-15T17:08:17.816426Z",
     "start_time": "2025-05-15T17:08:17.805469Z"
    }
   },
   "cell_type": "code",
   "source": [
    "def age_group(age):\n",
    "    if age <= 2:\n",
    "        return 'Infant'\n",
    "    elif age <= 12:\n",
    "        return 'Child'\n",
    "    elif age <= 17:\n",
    "        return 'Teenager'\n",
    "    elif age <= 25:\n",
    "        return 'Youth'\n",
    "    elif age <= 55:\n",
    "        return 'Adult'\n",
    "    else:\n",
    "        return 'Elderly'\n",
    "\n",
    "df['age_category'] = df['Age'].apply(age_group)\n",
    "grouped = df.groupby(['age_category', 'Pclass']).size().reset_index(name='Count')\n",
    "print(grouped)"
   ],
   "id": "ea78dd550a2454e2",
   "outputs": [
    {
     "name": "stdout",
     "output_type": "stream",
     "text": [
      "   age_category  Pclass  Count\n",
      "0         Adult       1    118\n",
      "1         Adult       2    101\n",
      "2         Adult       3    154\n",
      "3         Child       1      2\n",
      "4         Child       2     10\n",
      "5         Child       3     33\n",
      "6       Elderly       1     26\n",
      "7       Elderly       2      7\n",
      "8       Elderly       3      7\n",
      "9        Infant       1      2\n",
      "10       Infant       2      7\n",
      "11       Infant       3     15\n",
      "12     Teenager       1      8\n",
      "13     Teenager       2      6\n",
      "14     Teenager       3     30\n",
      "15        Youth       1     30\n",
      "16        Youth       2     42\n",
      "17        Youth       3    116\n"
     ]
    }
   ],
   "execution_count": 12
  },
  {
   "metadata": {
    "ExecuteTime": {
     "end_time": "2025-05-15T17:08:20.248275Z",
     "start_time": "2025-05-15T17:08:20.210881Z"
    }
   },
   "cell_type": "code",
   "source": [
    "pivot_table = df.pivot_table(index='age_category', columns='Pclass', aggfunc='size', fill_value=0)\n",
    "print(pivot_table)"
   ],
   "id": "da204d48e57c4df6",
   "outputs": [
    {
     "name": "stdout",
     "output_type": "stream",
     "text": [
      "Pclass          1    2    3\n",
      "age_category               \n",
      "Adult         118  101  154\n",
      "Child           2   10   33\n",
      "Elderly        26    7    7\n",
      "Infant          2    7   15\n",
      "Teenager        8    6   30\n",
      "Youth          30   42  116\n"
     ]
    }
   ],
   "execution_count": 13
  },
  {
   "metadata": {
    "ExecuteTime": {
     "end_time": "2025-05-15T17:24:07.818458Z",
     "start_time": "2025-05-15T17:24:07.800318Z"
    }
   },
   "cell_type": "code",
   "source": "chisquare([118,101,154,2,10,33,26,7,7,2,7,15,8,6,30,30,42,116],f_exp=[92,91,186,12,11,23,11,10,20,6,6,12,12,11,22,49,46,94])",
   "id": "f99fec4c33ae178d",
   "outputs": [
    {
     "data": {
      "text/plain": [
       "Power_divergenceResult(statistic=np.float64(79.49131154011769), pvalue=np.float64(4.721372305660111e-10))"
      ]
     },
     "execution_count": 14,
     "metadata": {},
     "output_type": "execute_result"
    }
   ],
   "execution_count": 14
  }
 ],
 "metadata": {
  "kernelspec": {
   "display_name": "Python 3",
   "language": "python",
   "name": "python3"
  },
  "language_info": {
   "codemirror_mode": {
    "name": "ipython",
    "version": 2
   },
   "file_extension": ".py",
   "mimetype": "text/x-python",
   "name": "python",
   "nbconvert_exporter": "python",
   "pygments_lexer": "ipython2",
   "version": "2.7.6"
  }
 },
 "nbformat": 4,
 "nbformat_minor": 5
}
